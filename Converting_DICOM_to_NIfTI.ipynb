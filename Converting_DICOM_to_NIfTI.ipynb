{
 "cells": [
  {
   "cell_type": "code",
   "execution_count": null,
   "metadata": {},
   "outputs": [],
   "source": [
    "my_dicom_directoty=    'D:/'"
   ]
  },
  {
   "cell_type": "code",
   "execution_count": null,
   "metadata": {},
   "outputs": [],
   "source": [
    "# Convert DICOM to NIfTI using SimpleITK\n",
    "\n",
    "CATEGORIES = [\"1\", \"2\", \"3\"]\n",
    "for category in CATEGORIES:  # Folders 1 , 2 ,and 3\n",
    "    class_label = CATEGORIES.index(category)\n",
    "    path = os.path.join(my_dicom_directoty,category)\n",
    "    print (path)\n",
    "    \n",
    "    # read the dcm data\n",
    "\n",
    "    reader = sitk.ImageSeriesReader()\n",
    "    dcm_data = reader.GetGDCMSeriesFileNames(path)\n",
    "    reader.SetFileNames(dcm_data)\n",
    "    print(\"length of dcm_data: \",len(dcm_data))\n",
    "    my_img = reader.Execute()\n",
    "   \n",
    "\n",
    "    sitk.WriteImage(my_img, path + '/.nii.gz') # same place with dcm images"
   ]
  }
 ],
 "metadata": {
  "kernelspec": {
   "display_name": "Python 3",
   "language": "python",
   "name": "python3"
  },
  "language_info": {
   "codemirror_mode": {
    "name": "ipython",
    "version": 3
   },
   "file_extension": ".py",
   "mimetype": "text/x-python",
   "name": "python",
   "nbconvert_exporter": "python",
   "pygments_lexer": "ipython3",
   "version": "3.6.5"
  }
 },
 "nbformat": 4,
 "nbformat_minor": 2
}
